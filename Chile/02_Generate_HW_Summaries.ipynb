{
 "cells": [
  {
   "cell_type": "markdown",
   "metadata": {},
   "source": [
    "# Computation of hw indices by yearly hw events\n",
    "\n",
    "Author: Hugo Carrillo\n",
    "\n",
    "Creation: July 2024\n",
    "\n",
    "Steps:\n",
    "1. We read the cleaned data.\n",
    "2. We compute the indices HWN, HWF, HWD, HWM, HWA for each year and each station.\n",
    "3. We save the results in order to be used in the next notebooks."
   ]
  },
  {
   "cell_type": "code",
   "execution_count": 1,
   "metadata": {},
   "outputs": [],
   "source": [
    "import sys\n",
    "import os\n",
    "\n",
    "import pandas as pd\n",
    "import pickle\n",
    "\n",
    "\n",
    "import warnings\n",
    "warnings.filterwarnings(\"ignore\", category=RuntimeWarning) # Suppress specific RuntimeWarnings\n",
    "warnings.filterwarnings(\"ignore\", category=FutureWarning) # Suppress specific RuntimeWarnings"
   ]
  },
  {
   "cell_type": "code",
   "execution_count": 2,
   "metadata": {},
   "outputs": [],
   "source": [
    "%load_ext autoreload\n",
    "%autoreload 2"
   ]
  },
  {
   "cell_type": "markdown",
   "metadata": {},
   "source": [
    "# Parameters\n"
   ]
  },
  {
   "cell_type": "code",
   "execution_count": 3,
   "metadata": {},
   "outputs": [],
   "source": [
    "METADATA_PATH_AND_FILENAME = 'data/metadata.parquet'\n",
    "CLEANED_DATA_PATH = 'data/cleaned/'\n",
    "MY_FUNCTIONS_PATH = '../functions/'\n",
    "AUX_DATA_FOLDER = 'data/aux/'"
   ]
  },
  {
   "cell_type": "code",
   "execution_count": 4,
   "metadata": {},
   "outputs": [],
   "source": [
    "# Add the folder to the Python path\n",
    "folder_path = os.path.abspath(MY_FUNCTIONS_PATH) # Replace with the current folder path\n",
    "sys.path.insert(0, folder_path)\n",
    "\n",
    "\n",
    "from HWCompAndStats import (\n",
    "    HW_indices_summary,\n",
    ")"
   ]
  },
  {
   "cell_type": "markdown",
   "metadata": {},
   "source": [
    "# Reading data"
   ]
  },
  {
   "cell_type": "code",
   "execution_count": 5,
   "metadata": {},
   "outputs": [],
   "source": [
    "# Reading raw data of selected stations\n",
    "statlist = [330007, 330020, 330030, 340031, 360011, 380013, 360019, 390006, 400009, 410005]\n",
    "station_data_to_read = {}\n",
    "stations_data = {}\n",
    "for stat in statlist:\n",
    "    stations_data[stat] = pd.read_parquet(CLEANED_DATA_PATH + f'{stat}.parquet')\n",
    "\n",
    "stations = pd.DataFrame(index = statlist)"
   ]
  },
  {
   "cell_type": "markdown",
   "metadata": {},
   "source": [
    "# Heatwave definitions"
   ]
  },
  {
   "cell_type": "code",
   "execution_count": 6,
   "metadata": {},
   "outputs": [],
   "source": [
    "# MeteoChile\n",
    "HWDef = {'Tind_type': 'max_temp',\n",
    "        'Tcrit_dict': {'meas': 'perc',\n",
    "                        'perc': 90,\n",
    "                        'adj': 'adj',\n",
    "                        'set': '',\n",
    "                        'Tadd': 0,\n",
    "                        'hist_data_temp': 'max_temp'\n",
    "                        },\n",
    "        'Nd': 3}\n",
    "\n",
    "# Euro-Cordex\n",
    "HWDef_EC = {'Tind_type': 'max_temp',\n",
    "        'Tcrit_dict': {'meas': 'perc',\n",
    "                        'perc': 99,\n",
    "                        'adj': '',\n",
    "                        'set': '',\n",
    "                        'Tadd': 0,\n",
    "                        'hist_data_temp': 'max_temp'\n",
    "                        },\n",
    "        'Nd': 3}\n",
    "\n",
    "# CTXP90pct\n",
    "HWDef_CTX90pct = {\n",
    "        'Tind_type': 'max_temp',\n",
    "        'Tcrit_dict': {'meas': 'perc',\n",
    "                        'perc': 99,\n",
    "                        'adj': '',\n",
    "                        'set': 15,\n",
    "                        'Tadd': 0,\n",
    "                        'hist_data_temp': 'max_temp'\n",
    "                        },\n",
    "        'Nd': 3}\n",
    "\n",
    "\n",
    "HWDef_dict = {}\n",
    "HWDef_dict['MeteoChile'] = HWDef\n",
    "HWDef_dict['EURO-CORDEX'] = HWDef_EC\n",
    "HWDef_dict['CTX90pct'] = HWDef_CTX90pct\n",
    "\n",
    "\n",
    "start_year = 1971\n",
    "end_year = 2023\n",
    "\n",
    "#red_periods are the tim in which the threshold is computed\n",
    "ref_period = {}\n",
    "ref_period['MC'] = [1981, 2010]\n",
    "ref_period['EC'] = [1971, 2000] #this ref period is also  valid for CTXP90pct\n"
   ]
  },
  {
   "cell_type": "code",
   "execution_count": 8,
   "metadata": {},
   "outputs": [
    {
     "name": "stdout",
     "output_type": "stream",
     "text": [
      "this step could take about 1 hour\n",
      "station=330007\n",
      "hwdef=\n",
      "MeteoChile\n",
      "station=330007\n",
      "hwdef=\n",
      "EURO-CORDEX\n",
      "station=330007\n",
      "hwdef=\n",
      "CTX90pct\n",
      "station=330020\n",
      "hwdef=\n",
      "MeteoChile\n",
      "station=330020\n",
      "hwdef=\n",
      "EURO-CORDEX\n",
      "station=330020\n",
      "hwdef=\n",
      "CTX90pct\n",
      "station=330030\n",
      "hwdef=\n",
      "MeteoChile\n",
      "station=330030\n",
      "hwdef=\n",
      "EURO-CORDEX\n",
      "station=330030\n",
      "hwdef=\n",
      "CTX90pct\n",
      "station=340031\n",
      "hwdef=\n",
      "MeteoChile\n",
      "station=340031\n",
      "hwdef=\n",
      "EURO-CORDEX\n",
      "station=340031\n",
      "hwdef=\n",
      "CTX90pct\n",
      "station=360011\n",
      "hwdef=\n",
      "MeteoChile\n",
      "station=360011\n",
      "hwdef=\n",
      "EURO-CORDEX\n",
      "station=360011\n",
      "hwdef=\n",
      "CTX90pct\n",
      "station=380013\n",
      "hwdef=\n",
      "MeteoChile\n",
      "station=380013\n",
      "hwdef=\n",
      "EURO-CORDEX\n",
      "station=380013\n",
      "hwdef=\n",
      "CTX90pct\n",
      "station=360019\n",
      "hwdef=\n",
      "MeteoChile\n",
      "station=360019\n",
      "hwdef=\n",
      "EURO-CORDEX\n",
      "station=360019\n",
      "hwdef=\n",
      "CTX90pct\n",
      "station=390006\n",
      "hwdef=\n",
      "MeteoChile\n",
      "station=390006\n",
      "hwdef=\n",
      "EURO-CORDEX\n",
      "station=390006\n",
      "hwdef=\n",
      "CTX90pct\n",
      "station=400009\n",
      "hwdef=\n",
      "MeteoChile\n",
      "station=400009\n",
      "hwdef=\n",
      "EURO-CORDEX\n",
      "station=400009\n",
      "hwdef=\n",
      "CTX90pct\n",
      "station=410005\n",
      "hwdef=\n",
      "MeteoChile\n",
      "station=410005\n",
      "hwdef=\n",
      "EURO-CORDEX\n",
      "station=410005\n",
      "hwdef=\n",
      "CTX90pct\n"
     ]
    }
   ],
   "source": [
    "HW_indices = ['HWN', 'HWF', 'HWD', 'HWM', 'HWA']\n",
    "\n",
    "print('This step takes about 30 minutes...')\n",
    "hw_Chile_summary = HW_indices_summary(HWDef_dict, HW_indices, ref_period, stations, start_year, end_year, stations_data = stations_data)"
   ]
  },
  {
   "cell_type": "code",
   "execution_count": 9,
   "metadata": {},
   "outputs": [],
   "source": [
    "#save the computed indices\n",
    "filename = 'hw_Chile_summary.pkl'\n",
    "with open(AUX_DATA_FOLDER + filename, 'wb') as f:\n",
    "    pickle.dump(hw_Chile_summary, f)"
   ]
  },
  {
   "cell_type": "code",
   "execution_count": null,
   "metadata": {},
   "outputs": [],
   "source": []
  }
 ],
 "metadata": {
  "kernelspec": {
   "display_name": ".venv",
   "language": "python",
   "name": "python3"
  },
  "language_info": {
   "codemirror_mode": {
    "name": "ipython",
    "version": 3
   },
   "file_extension": ".py",
   "mimetype": "text/x-python",
   "name": "python",
   "nbconvert_exporter": "python",
   "pygments_lexer": "ipython3",
   "version": "3.11.5"
  },
  "orig_nbformat": 4
 },
 "nbformat": 4,
 "nbformat_minor": 2
}

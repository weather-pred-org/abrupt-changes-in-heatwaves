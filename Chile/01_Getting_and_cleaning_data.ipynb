{
 "cells": [
  {
   "cell_type": "markdown",
   "metadata": {},
   "source": [
    "# Data of temperatures in Chile\n",
    "\n",
    "Author: Hugo Carrillo\n",
    "\n",
    "Creation: July 2024\n",
    "\n",
    "This notebook shows the very beginning steps in heatwave detection from meteorological stations data. \n",
    "1. Detection of missing data: quantification and cleaning.\n",
    "2. Selection of stations. \n",
    "3. We generate cleaned data for heatwave detections."
   ]
  },
  {
   "cell_type": "markdown",
   "metadata": {},
   "source": [
    "## Libraries import"
   ]
  },
  {
   "cell_type": "code",
   "execution_count": 2,
   "metadata": {},
   "outputs": [],
   "source": [
    "import numpy as np\n",
    "import pandas as pd\n",
    "\n",
    "import warnings\n",
    "warnings.filterwarnings(\"ignore\", category=RuntimeWarning) # Suppress specific RuntimeWarnings"
   ]
  },
  {
   "cell_type": "code",
   "execution_count": 3,
   "metadata": {},
   "outputs": [],
   "source": [
    "%load_ext autoreload\n",
    "%autoreload 2"
   ]
  },
  {
   "attachments": {},
   "cell_type": "markdown",
   "metadata": {},
   "source": [
    "# Parameters\n"
   ]
  },
  {
   "cell_type": "code",
   "execution_count": 4,
   "metadata": {},
   "outputs": [],
   "source": [
    "METADATA_PATH_AND_FILENAME = 'data/metadata.parquet'\n",
    "TEMP_DATA_PATH = 'data/original/'\n",
    "CLEANED_DATA_PATH = 'data/cleaned/'"
   ]
  },
  {
   "attachments": {},
   "cell_type": "markdown",
   "metadata": {},
   "source": [
    "# Utilities\n"
   ]
  },
  {
   "cell_type": "code",
   "execution_count": 5,
   "metadata": {},
   "outputs": [],
   "source": [
    "# this function takes the hourly temperatures and defines the max, min, and mean temperatures.\n",
    "def to_format(data):\n",
    "    #data is a pd dataframe containing the hourly temperatures for a given station\n",
    "    data['date'] = pd.to_datetime(data['date'], format=\"%Y-%m-%d\")\n",
    "    data.index = data['date']#.dt.date\n",
    "\n",
    "    max_temp = data.resample('D').max()\n",
    "    #max_temp = data.resample('D').apply(lambda x: np.nanmax(x))\n",
    "    max_temp.rename(columns={'temperature': 'max_temp'}, inplace=True)\n",
    "    max_temp = max_temp.drop(columns=['date'])\n",
    "\n",
    "    max_temp.index = pd.to_datetime(max_temp.index.date)\n",
    "\n",
    "\n",
    "    min_temp = data.resample('D').min()\n",
    "    min_temp.rename(columns={'temperature': 'min_temp'}, inplace=True)\n",
    "    min_temp = min_temp.drop(columns=['date'])\n",
    "    min_temp.index = pd.to_datetime(min_temp.index.date)\n",
    "\n",
    "\n",
    "    mean_temp = data.resample('D').mean()\n",
    "    mean_temp.rename(columns={'temperature': 'mean_temp'}, inplace=True)\n",
    "    mean_temp = mean_temp.drop(columns=['date'])\n",
    "    mean_temp.index = pd.to_datetime(mean_temp.index.date)\n",
    "\n",
    "    df_station = pd.concat([max_temp, min_temp, mean_temp], axis=1)\n",
    "\n",
    "    #df_station =  df_station.dropna()\n",
    "\n",
    "    return df_station"
   ]
  },
  {
   "cell_type": "markdown",
   "metadata": {},
   "source": [
    "# Reading data"
   ]
  },
  {
   "cell_type": "code",
   "execution_count": 6,
   "metadata": {},
   "outputs": [
    {
     "data": {
      "text/html": [
       "<div>\n",
       "<style scoped>\n",
       "    .dataframe tbody tr th:only-of-type {\n",
       "        vertical-align: middle;\n",
       "    }\n",
       "\n",
       "    .dataframe tbody tr th {\n",
       "        vertical-align: top;\n",
       "    }\n",
       "\n",
       "    .dataframe thead th {\n",
       "        text-align: right;\n",
       "    }\n",
       "</style>\n",
       "<table border=\"1\" class=\"dataframe\">\n",
       "  <thead>\n",
       "    <tr style=\"text-align: right;\">\n",
       "      <th></th>\n",
       "      <th>WMO_code</th>\n",
       "      <th>ICAO_code</th>\n",
       "      <th>name</th>\n",
       "      <th>latitude</th>\n",
       "      <th>longitude</th>\n",
       "      <th>altitude</th>\n",
       "      <th>state_id</th>\n",
       "      <th>geographic_zone_id</th>\n",
       "      <th>data_link</th>\n",
       "    </tr>\n",
       "    <tr>\n",
       "      <th>national_code</th>\n",
       "      <th></th>\n",
       "      <th></th>\n",
       "      <th></th>\n",
       "      <th></th>\n",
       "      <th></th>\n",
       "      <th></th>\n",
       "      <th></th>\n",
       "      <th></th>\n",
       "      <th></th>\n",
       "    </tr>\n",
       "  </thead>\n",
       "  <tbody>\n",
       "    <tr>\n",
       "      <th>170001</th>\n",
       "      <td>85403</td>\n",
       "      <td></td>\n",
       "      <td>Visviri Tenencia</td>\n",
       "      <td>-17.59500</td>\n",
       "      <td>-69.47750</td>\n",
       "      <td>4084</td>\n",
       "      <td>15</td>\n",
       "      <td>0</td>\n",
       "      <td>https://climatologia.meteochile.gob.cl/applica...</td>\n",
       "    </tr>\n",
       "    <tr>\n",
       "      <th>180005</th>\n",
       "      <td>85406</td>\n",
       "      <td>SCAR</td>\n",
       "      <td>Chacalluta, Arica Ap.</td>\n",
       "      <td>-18.35555</td>\n",
       "      <td>-70.34028</td>\n",
       "      <td>50</td>\n",
       "      <td>15</td>\n",
       "      <td>1</td>\n",
       "      <td>https://climatologia.meteochile.gob.cl/applica...</td>\n",
       "    </tr>\n",
       "    <tr>\n",
       "      <th>180017</th>\n",
       "      <td>85405</td>\n",
       "      <td></td>\n",
       "      <td>Putre</td>\n",
       "      <td>-18.20000</td>\n",
       "      <td>-69.56250</td>\n",
       "      <td>3532</td>\n",
       "      <td>15</td>\n",
       "      <td>2</td>\n",
       "      <td>https://climatologia.meteochile.gob.cl/applica...</td>\n",
       "    </tr>\n",
       "    <tr>\n",
       "      <th>180018</th>\n",
       "      <td>85407</td>\n",
       "      <td></td>\n",
       "      <td>Defensa Civil, Arica</td>\n",
       "      <td>-18.49111</td>\n",
       "      <td>-70.30139</td>\n",
       "      <td>71</td>\n",
       "      <td>15</td>\n",
       "      <td>1</td>\n",
       "      <td>https://climatologia.meteochile.gob.cl/applica...</td>\n",
       "    </tr>\n",
       "    <tr>\n",
       "      <th>180042</th>\n",
       "      <td>85408</td>\n",
       "      <td></td>\n",
       "      <td>Cerro Sombrero, Arica</td>\n",
       "      <td>-18.51250</td>\n",
       "      <td>-70.26556</td>\n",
       "      <td>122</td>\n",
       "      <td>15</td>\n",
       "      <td>1</td>\n",
       "      <td>https://climatologia.meteochile.gob.cl/applica...</td>\n",
       "    </tr>\n",
       "  </tbody>\n",
       "</table>\n",
       "</div>"
      ],
      "text/plain": [
       "               WMO_code ICAO_code                   name  latitude  longitude  \\\n",
       "national_code                                                                   \n",
       "170001            85403                 Visviri Tenencia -17.59500  -69.47750   \n",
       "180005            85406      SCAR  Chacalluta, Arica Ap. -18.35555  -70.34028   \n",
       "180017            85405                            Putre -18.20000  -69.56250   \n",
       "180018            85407             Defensa Civil, Arica -18.49111  -70.30139   \n",
       "180042            85408            Cerro Sombrero, Arica -18.51250  -70.26556   \n",
       "\n",
       "               altitude  state_id  geographic_zone_id  \\\n",
       "national_code                                           \n",
       "170001             4084        15                   0   \n",
       "180005               50        15                   1   \n",
       "180017             3532        15                   2   \n",
       "180018               71        15                   1   \n",
       "180042              122        15                   1   \n",
       "\n",
       "                                                       data_link  \n",
       "national_code                                                     \n",
       "170001         https://climatologia.meteochile.gob.cl/applica...  \n",
       "180005         https://climatologia.meteochile.gob.cl/applica...  \n",
       "180017         https://climatologia.meteochile.gob.cl/applica...  \n",
       "180018         https://climatologia.meteochile.gob.cl/applica...  \n",
       "180042         https://climatologia.meteochile.gob.cl/applica...  "
      ]
     },
     "execution_count": 6,
     "metadata": {},
     "output_type": "execute_result"
    }
   ],
   "source": [
    "# get all meteochile stations information\n",
    "stations = pd.read_parquet(METADATA_PATH_AND_FILENAME)\n",
    "stations.head()"
   ]
  },
  {
   "cell_type": "code",
   "execution_count": 7,
   "metadata": {},
   "outputs": [],
   "source": [
    "# Reading raw data of selected stations\n",
    "statlist = [330007, 330020, 330030, 340031, 360011, 380013, 360019, 390006, 400009, 410005]\n",
    "station_data_to_read = {}\n",
    "stations_data = {}\n",
    "for stat in statlist:\n",
    "    station_data_to_read[stat] = pd.read_parquet(TEMP_DATA_PATH + f'{stat}.parquet')\n",
    "    station_data_to_read[stat] = station_data_to_read[stat][station_data_to_read[stat]['date'].dt.year > 1970]\n",
    "    stations_data[stat] = to_format(station_data_to_read[stat])\n",
    "    #save\n",
    "    stations_data[stat].dropna().to_parquet(CLEANED_DATA_PATH + f'{stat}.parquet')\n",
    "\n"
   ]
  },
  {
   "cell_type": "code",
   "execution_count": 8,
   "metadata": {},
   "outputs": [
    {
     "name": "stdout",
     "output_type": "stream",
     "text": [
      "Temp data:\n",
      "                                               date  temperature\n",
      "date                                                            \n",
      "1971-01-01 00:00:00-03:00 1971-01-01 00:00:00-03:00         12.6\n",
      "1971-01-01 03:00:00-03:00 1971-01-01 03:00:00-03:00          9.2\n",
      "1971-01-01 06:00:00-03:00 1971-01-01 06:00:00-03:00          8.8\n",
      "1971-01-01 07:00:00-03:00 1971-01-01 07:00:00-03:00          8.4\n",
      "1971-01-01 08:00:00-03:00 1971-01-01 08:00:00-03:00         10.8\n",
      "-------\n",
      "-------\n",
      "Temp data in format:\n",
      "            max_temp  min_temp  mean_temp\n",
      "1971-01-01      19.2       8.4  15.158824\n",
      "1971-01-02      15.4      11.6  13.794444\n",
      "1971-01-03      14.5       8.8  12.100000\n",
      "1971-01-04      14.0       9.8  11.933333\n",
      "1971-01-05      16.8      10.3  13.426316\n"
     ]
    }
   ],
   "source": [
    "# checking the data\n",
    "print('Temp data:')\n",
    "print(station_data_to_read[stat].head())\n",
    "print('-------')\n",
    "print('-------')\n",
    "print('Temp data in format:')\n",
    "print(stations_data[stat].head())\n",
    "\n"
   ]
  },
  {
   "cell_type": "code",
   "execution_count": 9,
   "metadata": {},
   "outputs": [
    {
     "name": "stdout",
     "output_type": "stream",
     "text": [
      "        tot. days  miss. days  p. miss. days  miss. hours  p. miss. hours\n",
      "330007    19532.0        17.0       0.000870       3765.0        0.014001\n",
      "330020    19577.0         2.0       0.000102         13.0        0.000073\n",
      "330030    19533.0       405.0       0.020734      29689.0        0.100816\n",
      "340031    19575.0         8.0       0.000409        701.0        0.002187\n",
      "360011    19472.0       107.0       0.005495        588.0        0.002035\n",
      "380013    19411.0       168.0       0.008655        414.0        0.000933\n",
      "360019    19579.0         0.0       0.000000         56.0        0.000120\n",
      "390006    19574.0        11.0       0.000562       2390.0        0.008248\n",
      "400009    19559.0        20.0       0.001023       1618.0        0.005894\n",
      "410005    19577.0         4.0       0.000204         76.0        0.000163\n"
     ]
    }
   ],
   "source": [
    "# This cell provides information about the missing and possible cleaning of the data\n",
    "# In the case of Chile, we found missing data in form of nans. See the table in the output cell.\n",
    "\n",
    "df_nans = pd.DataFrame(index=statlist)\n",
    "total_days = np.zeros((len(statlist),))\n",
    "missing_days = np.zeros((len(statlist),))\n",
    "missing_hours = np.zeros((len(statlist),))\n",
    "total_hours = np.zeros((len(statlist),))\n",
    "missing_daytime = np.zeros((len(statlist),))\n",
    "\n",
    "\n",
    "for i, stat in enumerate(statlist):\n",
    "    total_days[i] = len(station_data_to_read[stat].groupby(station_data_to_read[stat].index.date))\n",
    "\n",
    "    days_with_nan = stations_data[stat].isna().groupby(stations_data[stat].index.date).any()\n",
    "    nan_days = days_with_nan[days_with_nan['max_temp']].index\n",
    "\n",
    "    missing_days[i] = len(nan_days)\n",
    "\n",
    "    other_missings = stations_data[stat][stations_data[stat]['max_temp'] - stations_data[stat]['min_temp'] < 1e-5]\n",
    "    missing_daytime[i] = len(other_missings)\n",
    "\n",
    "    days_with_nan = station_data_to_read[stat].isna().groupby(station_data_to_read[stat].index.date).any()\n",
    "    nan_days = days_with_nan[days_with_nan['temperature']].index\n",
    "    df_with_nan_days = station_data_to_read[stat][np.isnan(station_data_to_read[stat]['temperature'])]\n",
    "    missing_hours[i] = len(df_with_nan_days)\n",
    "    total_hours[i] = len(station_data_to_read[stat])\n",
    "\n",
    "    days_with_nan = stations_data[stat].isna().groupby(stations_data[stat].index.date).any()\n",
    "    nan_days = days_with_nan[days_with_nan['max_temp']].index\n",
    "\n",
    "df_nans['tot. days'] = total_days\n",
    "df_nans['miss. days'] = missing_days\n",
    "df_nans['p. miss. days'] = missing_days/total_days\n",
    "df_nans['miss. hours'] = missing_hours\n",
    "df_nans['p. miss. hours'] = missing_hours/total_hours\n",
    "\n",
    "print(df_nans)"
   ]
  },
  {
   "cell_type": "code",
   "execution_count": 10,
   "metadata": {},
   "outputs": [
    {
     "name": "stdout",
     "output_type": "stream",
     "text": [
      "Percentage of missing entries=0.011936402748986044\n",
      "Percentage of missing days=0.0037975525746075777\n"
     ]
    }
   ],
   "source": [
    "print(f\"Percentage of missing entries={sum(df_nans['miss. hours'])/sum(total_hours)}\")\n",
    "print(f\"Percentage of missing days={sum(df_nans['miss. days'])/sum(df_nans['tot. days'])}\")"
   ]
  }
 ],
 "metadata": {
  "kernelspec": {
   "display_name": ".venv",
   "language": "python",
   "name": "python3"
  },
  "language_info": {
   "codemirror_mode": {
    "name": "ipython",
    "version": 3
   },
   "file_extension": ".py",
   "mimetype": "text/x-python",
   "name": "python",
   "nbconvert_exporter": "python",
   "pygments_lexer": "ipython3",
   "version": "3.11.5"
  },
  "orig_nbformat": 4
 },
 "nbformat": 4,
 "nbformat_minor": 2
}

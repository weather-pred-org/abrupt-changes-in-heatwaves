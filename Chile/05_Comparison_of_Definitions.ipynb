{
 "cells": [
  {
   "cell_type": "markdown",
   "metadata": {},
   "source": [
    "# Comparison of definitions\n",
    "\n",
    "Author: Hugo Carrillo\n",
    "\n",
    "Creation: July 2024\n",
    "\n",
    "Steps:\n",
    "1. We read the hw summary computed in notebook 03.\n",
    "2. We produce a table of correlations between the obtained timeseries for each definition."
   ]
  },
  {
   "cell_type": "code",
   "execution_count": null,
   "metadata": {},
   "outputs": [],
   "source": [
    "import sys\n",
    "import os\n",
    "\n",
    "import pandas as pd\n",
    "import pickle\n",
    "\n",
    "\n",
    "import warnings\n",
    "warnings.filterwarnings(\"ignore\", category=RuntimeWarning) # Suppress specific RuntimeWarnings"
   ]
  },
  {
   "cell_type": "code",
   "execution_count": 2,
   "metadata": {},
   "outputs": [],
   "source": [
    "%load_ext autoreload\n",
    "%autoreload 2"
   ]
  },
  {
   "cell_type": "markdown",
   "metadata": {},
   "source": [
    "# Parameters\n"
   ]
  },
  {
   "cell_type": "code",
   "execution_count": 3,
   "metadata": {},
   "outputs": [],
   "source": [
    "\n",
    "CLEANED_DATA_PATH = 'data/cleaned/'\n",
    "MY_FUNCTIONS_PATH = '../functions/'\n",
    "AUX_DATA_FOLDER = 'data/aux/'\n"
   ]
  },
  {
   "cell_type": "code",
   "execution_count": 4,
   "metadata": {},
   "outputs": [],
   "source": [
    "# Add the folder to the Python path\n",
    "folder_path = os.path.abspath(MY_FUNCTIONS_PATH)\n",
    "sys.path.insert(0, folder_path)\n",
    "\n",
    "\n",
    "from HWCompAndStats import (\n",
    "    HW_stats_of_indices,\n",
    ")"
   ]
  },
  {
   "cell_type": "markdown",
   "metadata": {},
   "source": [
    "# Reading data"
   ]
  },
  {
   "cell_type": "code",
   "execution_count": 9,
   "metadata": {},
   "outputs": [],
   "source": [
    "filename = 'hw_Chile_summary.pkl'\n",
    "\n",
    "with open(AUX_DATA_FOLDER + filename, 'rb') as f:\n",
    "    hw_Chile_summary_from_file = pickle.load(f)\n",
    "\n",
    "hw_Chile_summary = hw_Chile_summary_from_file.copy() #this is a summary by year and by station\n",
    "\n",
    "hwi_stats_Chile = HW_stats_of_indices(hw_Chile_summary) #stats summary"
   ]
  },
  {
   "cell_type": "markdown",
   "metadata": {},
   "source": [
    "# Table of correlations"
   ]
  },
  {
   "cell_type": "code",
   "execution_count": 7,
   "metadata": {},
   "outputs": [
    {
     "name": "stdout",
     "output_type": "stream",
     "text": [
      "             MeteoChile  EURO-CORDEX  CTX90pct  MeteoChile  EURO-CORDEX  \\\n",
      "MeteoChile     1.000000     0.805548  0.945721    1.000000     0.842821   \n",
      "EURO-CORDEX    0.805548     1.000000  0.834512    0.842821     1.000000   \n",
      "CTX90pct       0.945721     0.834512  1.000000    0.944326     0.860945   \n",
      "\n",
      "             CTX90pct  MeteoChile  EURO-CORDEX  CTX90pct  MeteoChile  \\\n",
      "MeteoChile   0.944326    1.000000     0.805108  0.884293    1.000000   \n",
      "EURO-CORDEX  0.860945    0.805108     1.000000  0.778970    0.677991   \n",
      "CTX90pct     1.000000    0.884293     0.778970  1.000000    0.905339   \n",
      "\n",
      "             EURO-CORDEX  CTX90pct  MeteoChile  EURO-CORDEX  CTX90pct  \n",
      "MeteoChile      0.677991  0.905339    1.000000     0.727902  0.941705  \n",
      "EURO-CORDEX     1.000000  0.729410    0.727902     1.000000  0.774002  \n",
      "CTX90pct        0.729410  1.000000    0.941705     0.774002  1.000000  \n"
     ]
    }
   ],
   "source": [
    "indices = ['HWN', 'HWF', 'HWD', 'HWM', 'HWA']\n",
    "meas = 'mean'\n",
    "\n",
    "corr_hwi_defs={}\n",
    "\n",
    "for hwi in indices:\n",
    "    hwi_stats_defs = {'MeteoChile': hwi_stats_Chile['MeteoChile']['MC'][hwi][meas],\n",
    "                  'EURO-CORDEX': hwi_stats_Chile['EURO-CORDEX']['EC'][hwi][meas],\n",
    "                  'CTX90pct': hwi_stats_Chile['CTX90pct']['MC'][hwi][meas],\n",
    "                }\n",
    "    hwi_stats_defs = pd.DataFrame(hwi_stats_defs)\n",
    "    corr_hwi_defs[hwi] = pd.DataFrame(hwi_stats_defs).corr()\n",
    "\n",
    "corr_hwi_defs = pd.concat([corr_hwi_defs[hwi] for hwi in indices], axis=1)\n",
    "print(corr_hwi_defs)\n"
   ]
  },
  {
   "cell_type": "markdown",
   "metadata": {},
   "source": [
    "# LaTeX table"
   ]
  },
  {
   "cell_type": "code",
   "execution_count": 8,
   "metadata": {},
   "outputs": [
    {
     "name": "stdout",
     "output_type": "stream",
     "text": [
      "\\begin{tabular}{llllllllllllllll}\n",
      "\\toprule\n",
      " & MeteoChile & EURO-CORDEX & CTX90pct & MeteoChile & EURO-CORDEX & CTX90pct & MeteoChile & EURO-CORDEX & CTX90pct & MeteoChile & EURO-CORDEX & CTX90pct & MeteoChile & EURO-CORDEX & CTX90pct \\\\\n",
      "\\midrule\n",
      "MeteoChile & 1.0 & 0.806 & 0.946 & 1.0 & 0.843 & 0.944 & 1.0 & 0.805 & 0.884 & 1.0 & 0.678 & 0.905 & 1.0 & 0.728 & 0.942 \\\\\n",
      "EURO-CORDEX & 0.806 & 1.0 & 0.835 & 0.843 & 1.0 & 0.861 & 0.805 & 1.0 & 0.779 & 0.678 & 1.0 & 0.729 & 0.728 & 1.0 & 0.774 \\\\\n",
      "CTX90pct & 0.946 & 0.835 & 1.0 & 0.944 & 0.861 & 1.0 & 0.884 & 0.779 & 1.0 & 0.905 & 0.729 & 1.0 & 0.942 & 0.774 & 1.0 \\\\\n",
      "\\bottomrule\n",
      "\\end{tabular}\n",
      "\n"
     ]
    },
    {
     "name": "stderr",
     "output_type": "stream",
     "text": [
      "/var/folders/x9/shm48h2x00d0km04wyrz64mr0000gn/T/ipykernel_94471/2446991572.py:3: FutureWarning: DataFrame.applymap has been deprecated. Use DataFrame.map instead.\n",
      "  print(corr_hwi_defs.applymap(latex_scientific_notation).to_latex(index=True))\n"
     ]
    }
   ],
   "source": [
    "def latex_scientific_notation(x):\n",
    "    return f'{x:.3}'\n",
    "print(corr_hwi_defs.applymap(latex_scientific_notation).to_latex(index=True))\n"
   ]
  },
  {
   "cell_type": "code",
   "execution_count": null,
   "metadata": {},
   "outputs": [],
   "source": []
  }
 ],
 "metadata": {
  "kernelspec": {
   "display_name": ".venv",
   "language": "python",
   "name": "python3"
  },
  "language_info": {
   "codemirror_mode": {
    "name": "ipython",
    "version": 3
   },
   "file_extension": ".py",
   "mimetype": "text/x-python",
   "name": "python",
   "nbconvert_exporter": "python",
   "pygments_lexer": "ipython3",
   "version": "3.11.5"
  },
  "orig_nbformat": 4
 },
 "nbformat": 4,
 "nbformat_minor": 2
}

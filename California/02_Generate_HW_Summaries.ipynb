{
 "cells": [
  {
   "cell_type": "markdown",
   "metadata": {},
   "source": [
    "# Computation of hw indices by yearly hw events\n",
    "\n",
    "Author: Hugo Carrillo\n",
    "\n",
    "Creation: July 2024\n",
    "\n",
    "Steps:\n",
    "1. We read the cleaned data.\n",
    "2. We compute the indices HWN, HWF, HWD, HWM, HWA for each year and each station.\n",
    "3. We save the results in order to be used in the next notebooks."
   ]
  },
  {
   "cell_type": "code",
   "execution_count": 2,
   "metadata": {},
   "outputs": [],
   "source": [
    "import sys\n",
    "import os\n",
    "\n",
    "import pandas as pd\n",
    "import pickle\n",
    "\n",
    "\n",
    "import warnings\n",
    "warnings.filterwarnings(\"ignore\", category=RuntimeWarning) # Suppress specific RuntimeWarnings\n",
    "warnings.filterwarnings(\"ignore\", category=FutureWarning) # Suppress specific RuntimeWarnings"
   ]
  },
  {
   "cell_type": "code",
   "execution_count": 3,
   "metadata": {},
   "outputs": [],
   "source": [
    "%load_ext autoreload\n",
    "%autoreload 2"
   ]
  },
  {
   "cell_type": "markdown",
   "metadata": {},
   "source": [
    "# Parameters\n"
   ]
  },
  {
   "cell_type": "code",
   "execution_count": 4,
   "metadata": {},
   "outputs": [],
   "source": [
    "METADATA_PATH_AND_FILENAME = 'data/cimis_metadata.csv'\n",
    "CLEANED_DATA_PATH = 'data/cleaned/'\n",
    "MY_FUNCTIONS_PATH = '../functions/'\n",
    "AUX_DATA_FOLDER = 'data/aux/'"
   ]
  },
  {
   "cell_type": "code",
   "execution_count": 5,
   "metadata": {},
   "outputs": [],
   "source": [
    "# Add the folder to the Python path\n",
    "folder_path = os.path.abspath(MY_FUNCTIONS_PATH)\n",
    "sys.path.insert(0, folder_path)\n",
    "\n",
    "from HWCompAndStats import (\n",
    "    HW_indices_summary,\n",
    ")"
   ]
  },
  {
   "cell_type": "markdown",
   "metadata": {},
   "source": [
    "# Reading data"
   ]
  },
  {
   "cell_type": "code",
   "execution_count": 6,
   "metadata": {},
   "outputs": [],
   "source": [
    "# Reading raw data of selected stations\n",
    "\n",
    "### stations are already selected\n",
    "statlist_sorted = [91, 90, 43, 6, 47, 70, 35, 39, 5, 52, 62] #sorted from N to S\n",
    "stations = pd.DataFrame(index = statlist_sorted)\n",
    "\n",
    "statlist = statlist_sorted.copy()\n",
    "station_data_to_read = {}\n",
    "stations_data = {}\n",
    "for stat in statlist:\n",
    "    stations_data[stat] = pd.read_parquet(CLEANED_DATA_PATH + f'Stat_{stat}.parquet')\n",
    "\n",
    "stations = pd.DataFrame(index = statlist)"
   ]
  },
  {
   "cell_type": "markdown",
   "metadata": {},
   "source": [
    "# Heatwave definitions"
   ]
  },
  {
   "cell_type": "code",
   "execution_count": 7,
   "metadata": {},
   "outputs": [],
   "source": [
    "# MeteoChile\n",
    "HWDef = {'Tind_type': 'max_temp',\n",
    "        'Tcrit_dict': {'meas': 'perc',\n",
    "                        'perc': 90,\n",
    "                        'adj': 'adj',\n",
    "                        'set': '',\n",
    "                        'Tadd': 0,\n",
    "                        'hist_data_temp': 'max_temp'\n",
    "                        },\n",
    "        'Nd': 3}\n",
    "\n",
    "# Euro-Cordex\n",
    "HWDef_EC = {'Tind_type': 'max_temp',\n",
    "        'Tcrit_dict': {'meas': 'perc',\n",
    "                        'perc': 99,\n",
    "                        'adj': '',\n",
    "                        'set': '',\n",
    "                        'Tadd': 0,\n",
    "                        'hist_data_temp': 'max_temp'\n",
    "                        },\n",
    "        'Nd': 3}\n",
    "\n",
    "# CTXP90pct\n",
    "HWDef_CTX90pct = {\n",
    "        'Tind_type': 'max_temp',\n",
    "        'Tcrit_dict': {'meas': 'perc',\n",
    "                        'perc': 99,\n",
    "                        'adj': '',\n",
    "                        'set': 15,\n",
    "                        'Tadd': 0,\n",
    "                        'hist_data_temp': 'max_temp'\n",
    "                        },\n",
    "        'Nd': 3}\n",
    "\n",
    "\n",
    "HWDef_dict = {}\n",
    "HWDef_dict['MeteoChile'] = HWDef\n",
    "HWDef_dict['EURO-CORDEX'] = HWDef_EC\n",
    "HWDef_dict['CTX90pct'] = HWDef_CTX90pct\n",
    "\n",
    "\n",
    "start_year = 1989\n",
    "end_year = 2023\n",
    "\n",
    "\n",
    "ref_period = {}\n",
    "ref_period['CDA'] = [1991, 2020] #ref period due to data availability in california"
   ]
  },
  {
   "cell_type": "code",
   "execution_count": 8,
   "metadata": {},
   "outputs": [
    {
     "name": "stdout",
     "output_type": "stream",
     "text": [
      "station=91\n",
      "hwdef=\n",
      "MeteoChile\n",
      "station=91\n",
      "hwdef=\n",
      "EURO-CORDEX\n",
      "station=91\n",
      "hwdef=\n",
      "CTX90pct\n",
      "station=90\n",
      "hwdef=\n",
      "MeteoChile\n",
      "station=90\n",
      "hwdef=\n",
      "EURO-CORDEX\n",
      "station=90\n",
      "hwdef=\n",
      "CTX90pct\n",
      "station=43\n",
      "hwdef=\n",
      "MeteoChile\n",
      "station=43\n",
      "hwdef=\n",
      "EURO-CORDEX\n",
      "station=43\n",
      "hwdef=\n",
      "CTX90pct\n",
      "station=6\n",
      "hwdef=\n",
      "MeteoChile\n",
      "station=6\n",
      "hwdef=\n",
      "EURO-CORDEX\n",
      "station=6\n",
      "hwdef=\n",
      "CTX90pct\n",
      "station=47\n",
      "hwdef=\n",
      "MeteoChile\n",
      "station=47\n",
      "hwdef=\n",
      "EURO-CORDEX\n",
      "station=47\n",
      "hwdef=\n",
      "CTX90pct\n",
      "station=70\n",
      "hwdef=\n",
      "MeteoChile\n",
      "station=70\n",
      "hwdef=\n",
      "EURO-CORDEX\n",
      "station=70\n",
      "hwdef=\n",
      "CTX90pct\n",
      "station=35\n",
      "hwdef=\n",
      "MeteoChile\n",
      "station=35\n",
      "hwdef=\n",
      "EURO-CORDEX\n",
      "station=35\n",
      "hwdef=\n",
      "CTX90pct\n",
      "station=39\n",
      "hwdef=\n",
      "MeteoChile\n",
      "station=39\n",
      "hwdef=\n",
      "EURO-CORDEX\n",
      "station=39\n",
      "hwdef=\n",
      "CTX90pct\n",
      "station=5\n",
      "hwdef=\n",
      "MeteoChile\n",
      "station=5\n",
      "hwdef=\n",
      "EURO-CORDEX\n",
      "station=5\n",
      "hwdef=\n",
      "CTX90pct\n",
      "station=52\n",
      "hwdef=\n",
      "MeteoChile\n",
      "station=52\n",
      "hwdef=\n",
      "EURO-CORDEX\n",
      "station=52\n",
      "hwdef=\n",
      "CTX90pct\n",
      "station=62\n",
      "hwdef=\n",
      "MeteoChile\n",
      "station=62\n",
      "hwdef=\n",
      "EURO-CORDEX\n",
      "station=62\n",
      "hwdef=\n",
      "CTX90pct\n"
     ]
    }
   ],
   "source": [
    "HW_indices = ['HWN', 'HWF', 'HWD', 'HWM', 'HWA']\n",
    "\n",
    "hw_Cal_summary = HW_indices_summary(HWDef_dict, HW_indices, ref_period, stations, start_year, end_year, stations_data = stations_data)"
   ]
  },
  {
   "cell_type": "code",
   "execution_count": 9,
   "metadata": {},
   "outputs": [],
   "source": [
    "filename = 'hw_Cal_summary.pkl'\n",
    "with open(AUX_DATA_FOLDER + filename, 'wb') as f:\n",
    "    pickle.dump(hw_Cal_summary, f)"
   ]
  }
 ],
 "metadata": {
  "kernelspec": {
   "display_name": ".venv",
   "language": "python",
   "name": "python3"
  },
  "language_info": {
   "codemirror_mode": {
    "name": "ipython",
    "version": 3
   },
   "file_extension": ".py",
   "mimetype": "text/x-python",
   "name": "python",
   "nbconvert_exporter": "python",
   "pygments_lexer": "ipython3",
   "version": "3.11.5"
  },
  "orig_nbformat": 4
 },
 "nbformat": 4,
 "nbformat_minor": 2
}

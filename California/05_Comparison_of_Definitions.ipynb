{
 "cells": [
  {
   "cell_type": "markdown",
   "metadata": {},
   "source": [
    "# Comparison of definitions\n",
    "\n",
    "Author: Hugo Carrillo\n",
    "\n",
    "Creation: July 2024\n",
    "\n",
    "Steps:\n",
    "1. We read the hw summary computed in notebook 02.\n",
    "2. We produce a table of correlations between the obtained timeseries for each definition."
   ]
  },
  {
   "cell_type": "code",
   "execution_count": 1,
   "metadata": {},
   "outputs": [],
   "source": [
    "import sys\n",
    "import os\n",
    "\n",
    "import pandas as pd\n",
    "import pickle\n",
    "\n",
    "\n",
    "import warnings\n",
    "warnings.filterwarnings(\"ignore\", category=RuntimeWarning) # Suppress specific RuntimeWarnings"
   ]
  },
  {
   "cell_type": "code",
   "execution_count": 2,
   "metadata": {},
   "outputs": [],
   "source": [
    "%load_ext autoreload\n",
    "%autoreload 2"
   ]
  },
  {
   "cell_type": "markdown",
   "metadata": {},
   "source": [
    "# Parameters\n"
   ]
  },
  {
   "cell_type": "code",
   "execution_count": 4,
   "metadata": {},
   "outputs": [],
   "source": [
    "CLEANED_DATA_PATH = 'data/cleaned/'\n",
    "MY_FUNCTIONS_PATH = '../functions/'\n",
    "AUX_DATA_FOLDER = 'data/aux/'"
   ]
  },
  {
   "cell_type": "code",
   "execution_count": 5,
   "metadata": {},
   "outputs": [],
   "source": [
    "# Add the folder to the Python path\n",
    "folder_path = os.path.abspath(MY_FUNCTIONS_PATH)\n",
    "sys.path.insert(0, folder_path)\n",
    "\n",
    "from HWCompAndStats import (\n",
    "    HW_stats_of_indices,\n",
    ")"
   ]
  },
  {
   "cell_type": "markdown",
   "metadata": {},
   "source": [
    "# Reading data"
   ]
  },
  {
   "cell_type": "code",
   "execution_count": 7,
   "metadata": {},
   "outputs": [],
   "source": [
    "filename = 'hw_Cal_summary.pkl'\n",
    "\n",
    "with open(AUX_DATA_FOLDER + filename, 'rb') as f:\n",
    "    hw_Cal_summary_from_file = pickle.load(f)\n",
    "\n",
    "hw_Cal_summary = hw_Cal_summary_from_file.copy() #this is a summary by year and by station\n",
    "\n",
    "hwi_stats_Cal = HW_stats_of_indices(hw_Cal_summary) #stats summary"
   ]
  },
  {
   "cell_type": "markdown",
   "metadata": {},
   "source": [
    "# Table of correlations"
   ]
  },
  {
   "cell_type": "code",
   "execution_count": 9,
   "metadata": {},
   "outputs": [
    {
     "name": "stdout",
     "output_type": "stream",
     "text": [
      "             MeteoChile  EURO-CORDEX  CTX90pct  MeteoChile  EURO-CORDEX  \\\n",
      "MeteoChile     1.000000     0.752537  0.908006    1.000000     0.747053   \n",
      "EURO-CORDEX    0.752537     1.000000  0.867660    0.747053     1.000000   \n",
      "CTX90pct       0.908006     0.867660  1.000000    0.888855     0.886666   \n",
      "\n",
      "             CTX90pct  MeteoChile  EURO-CORDEX  CTX90pct  MeteoChile  \\\n",
      "MeteoChile   0.888855    1.000000      0.49513  0.712472    1.000000   \n",
      "EURO-CORDEX  0.886666    0.495130      1.00000  0.845700    0.363985   \n",
      "CTX90pct     1.000000    0.712472      0.84570  1.000000    0.537296   \n",
      "\n",
      "             EURO-CORDEX  CTX90pct  MeteoChile  EURO-CORDEX  CTX90pct  \n",
      "MeteoChile      0.363985  0.537296    1.000000     0.571859  0.687468  \n",
      "EURO-CORDEX     1.000000  0.773359    0.571859     1.000000  0.800211  \n",
      "CTX90pct        0.773359  1.000000    0.687468     0.800211  1.000000  \n"
     ]
    }
   ],
   "source": [
    "indices = ['HWN', 'HWF', 'HWD', 'HWM', 'HWA']\n",
    "meas = 'mean'\n",
    "\n",
    "corr_hwi_defs={}\n",
    "\n",
    "for hwi in indices: #list(r_values.keys()):\n",
    "    hwi_stats_defs = {'MeteoChile': hwi_stats_Cal['MeteoChile']['CDA'][hwi][meas],\n",
    "                  'EURO-CORDEX': hwi_stats_Cal['EURO-CORDEX']['CDA'][hwi][meas],\n",
    "                  'CTX90pct': hwi_stats_Cal['CTX90pct']['CDA'][hwi][meas],\n",
    "                }\n",
    "    hwi_stats_defs = pd.DataFrame(hwi_stats_defs)\n",
    "    corr_hwi_defs[hwi] = pd.DataFrame(hwi_stats_defs).corr()\n",
    "    #trends_stats[hwi] = trends_stats[hwi].add_prefix(hwi + '_')\n",
    "\n",
    "#trends_df = pd.concat([corr_hwi_defs[hwi] for hwi in indices], axis=1)\n",
    "corr_hwi_defs = pd.concat([corr_hwi_defs[hwi] for hwi in indices], axis=1)\n",
    "print(corr_hwi_defs)\n"
   ]
  },
  {
   "cell_type": "markdown",
   "metadata": {},
   "source": [
    "# LaTeX table"
   ]
  },
  {
   "cell_type": "code",
   "execution_count": 10,
   "metadata": {},
   "outputs": [
    {
     "name": "stdout",
     "output_type": "stream",
     "text": [
      "\\begin{tabular}{llllllllllllllll}\n",
      "\\toprule\n",
      " & MeteoChile & EURO-CORDEX & CTX90pct & MeteoChile & EURO-CORDEX & CTX90pct & MeteoChile & EURO-CORDEX & CTX90pct & MeteoChile & EURO-CORDEX & CTX90pct & MeteoChile & EURO-CORDEX & CTX90pct \\\\\n",
      "\\midrule\n",
      "MeteoChile & 1.0 & 0.753 & 0.908 & 1.0 & 0.747 & 0.889 & 1.0 & 0.495 & 0.712 & 1.0 & 0.364 & 0.537 & 1.0 & 0.572 & 0.687 \\\\\n",
      "EURO-CORDEX & 0.753 & 1.0 & 0.868 & 0.747 & 1.0 & 0.887 & 0.495 & 1.0 & 0.846 & 0.364 & 1.0 & 0.773 & 0.572 & 1.0 & 0.8 \\\\\n",
      "CTX90pct & 0.908 & 0.868 & 1.0 & 0.889 & 0.887 & 1.0 & 0.712 & 0.846 & 1.0 & 0.537 & 0.773 & 1.0 & 0.687 & 0.8 & 1.0 \\\\\n",
      "\\bottomrule\n",
      "\\end{tabular}\n",
      "\n"
     ]
    },
    {
     "name": "stderr",
     "output_type": "stream",
     "text": [
      "/var/folders/x9/shm48h2x00d0km04wyrz64mr0000gn/T/ipykernel_5144/2446991572.py:3: FutureWarning: DataFrame.applymap has been deprecated. Use DataFrame.map instead.\n",
      "  print(corr_hwi_defs.applymap(latex_scientific_notation).to_latex(index=True))\n"
     ]
    }
   ],
   "source": [
    "def latex_scientific_notation(x):\n",
    "    return f'{x:.3}'\n",
    "print(corr_hwi_defs.applymap(latex_scientific_notation).to_latex(index=True))\n"
   ]
  },
  {
   "cell_type": "code",
   "execution_count": null,
   "metadata": {},
   "outputs": [],
   "source": []
  }
 ],
 "metadata": {
  "kernelspec": {
   "display_name": ".venv",
   "language": "python",
   "name": "python3"
  },
  "language_info": {
   "codemirror_mode": {
    "name": "ipython",
    "version": 3
   },
   "file_extension": ".py",
   "mimetype": "text/x-python",
   "name": "python",
   "nbconvert_exporter": "python",
   "pygments_lexer": "ipython3",
   "version": "3.11.5"
  },
  "orig_nbformat": 4
 },
 "nbformat": 4,
 "nbformat_minor": 2
}
